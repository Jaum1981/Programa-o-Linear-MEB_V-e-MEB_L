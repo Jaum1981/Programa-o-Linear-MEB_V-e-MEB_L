{
  "nbformat": 4,
  "nbformat_minor": 0,
  "metadata": {
    "colab": {
      "provenance": []
    },
    "kernelspec": {
      "name": "python3",
      "display_name": "Python 3"
    },
    "language_info": {
      "name": "python"
    }
  },
  "cells": [
    {
      "cell_type": "markdown",
      "source": [
        "# Implementação das Formulações Meb_V e Meb_L para o problema da Máxima Interseção Entre K-Subconjuntos"
      ],
      "metadata": {
        "id": "kwxy5wSf89Bl"
      }
    },
    {
      "cell_type": "markdown",
      "source": [
        "Equipe: João Victor Amarante Diniz e Maria Sofia Jeronimo de Lima"
      ],
      "metadata": {
        "id": "BiVdSZSo-0wJ"
      }
    },
    {
      "cell_type": "markdown",
      "source": [
        "## Sobre o problema\n",
        "\n",
        "O Problema da Máxima Interseção de $k$-Subconjuntos (**KMIS**) pode ser definido como: Dado uma coleção $\\mathcal{S}$ de subconjuntos do conjunto finito $B$ e um inteiro $k$, deseja-se selecionar $k$ subconjuntos $S_1, S_2, \\ldots, S_k \\in \\mathcal{S}$, tal que  $|S_1 \\cap \\ldots \\cap S_k|$ seja máximo.\n",
        "\n",
        "O problema pode ser modelado com um grafo bipartido $G=(L \\cup R, E)$, sendo que cada vértice $u \\in L$ está associado a um subconjunto $S_u \\in \\mathcal{S}$ e cada vértice $v \\in R$ está associado a um elemento $b_v \\in B$. Existe uma aresta entre um vértice $u$ (associado a um subconjunto $S_u \\in \\mathcal{S}$) e um vértice $v$ (relacionado a um elemento $b_v \\in B$), se e somente se, $b_v \\in S_u$. Portanto, queremos determinar $L' \\subset L$, com $|L'| = k$, de forma que $|\\cap(L')|$ seja máximo, onde $\\cap(L') = \\bigcap_{u \\in L'} N_G(u)$, com $N_G(u)$ sendo a vizinhança de $u$ em $G$. Por simplicidade, iremos cometer o seguinte abuso de notação: algumas vezes iremos nos referir aos vértices de $L$ pelos subconjuntos $S_u \\in \\mathcal{S}$ e mesmo denomina-los de vértices ou de subconjuntos."
      ],
      "metadata": {
        "id": "Xig9Wyyz_DPa"
      }
    },
    {
      "cell_type": "markdown",
      "source": [
        "## Instalação do Solver"
      ],
      "metadata": {
        "id": "qOqjbknF_TqU"
      }
    },
    {
      "cell_type": "code",
      "execution_count": 3,
      "metadata": {
        "colab": {
          "base_uri": "https://localhost:8080/"
        },
        "id": "NzQAyvnbd2d3",
        "outputId": "56137dad-c765-4bda-ac91-d843814b2e09"
      },
      "outputs": [
        {
          "output_type": "stream",
          "name": "stdout",
          "text": [
            "Requirement already satisfied: ortools in /usr/local/lib/python3.10/dist-packages (9.10.4067)\n",
            "Requirement already satisfied: absl-py>=2.0.0 in /usr/local/lib/python3.10/dist-packages (from ortools) (2.1.0)\n",
            "Requirement already satisfied: numpy>=1.13.3 in /usr/local/lib/python3.10/dist-packages (from ortools) (1.26.4)\n",
            "Requirement already satisfied: pandas>=2.0.0 in /usr/local/lib/python3.10/dist-packages (from ortools) (2.1.4)\n",
            "Requirement already satisfied: protobuf>=5.26.1 in /usr/local/lib/python3.10/dist-packages (from ortools) (5.28.0)\n",
            "Requirement already satisfied: immutabledict>=3.0.0 in /usr/local/lib/python3.10/dist-packages (from ortools) (4.2.0)\n",
            "Requirement already satisfied: python-dateutil>=2.8.2 in /usr/local/lib/python3.10/dist-packages (from pandas>=2.0.0->ortools) (2.8.2)\n",
            "Requirement already satisfied: pytz>=2020.1 in /usr/local/lib/python3.10/dist-packages (from pandas>=2.0.0->ortools) (2024.1)\n",
            "Requirement already satisfied: tzdata>=2022.1 in /usr/local/lib/python3.10/dist-packages (from pandas>=2.0.0->ortools) (2024.1)\n",
            "Requirement already satisfied: six>=1.5 in /usr/local/lib/python3.10/dist-packages (from python-dateutil>=2.8.2->pandas>=2.0.0->ortools) (1.16.0)\n"
          ]
        }
      ],
      "source": [
        "! pip install ortools"
      ]
    },
    {
      "cell_type": "code",
      "source": [
        "# Realizando todas as importações necessárias\n",
        "from ortools.linear_solver import pywraplp\n",
        "import pandas as pd\n",
        "import time\n",
        "import networkx as nx\n",
        "import matplotlib.pyplot as plt"
      ],
      "metadata": {
        "id": "z6gvP5rY_zsJ"
      },
      "execution_count": 4,
      "outputs": []
    },
    {
      "cell_type": "markdown",
      "source": [
        "## Formulação MEB_V"
      ],
      "metadata": {
        "id": "6eBZgS_td9HO"
      }
    },
    {
      "cell_type": "markdown",
      "source": [
        "Para a formulação $MEB \\ V$, as seguintes variáveis são definidas:"
      ],
      "metadata": {
        "id": "v7yOLuE6_-ih"
      }
    },
    {
      "cell_type": "markdown",
      "source": [
        "$\n",
        "y_u = \\text{ quantidade de vértices de } u \\text{ que pertencem a solução, sendo que } u\\in L. \\\\\n",
        "z_u =\n",
        "\\begin{cases}\n",
        "1, \\text{ caso o vértice } u \\text{ faça parte da solução } \\\\\n",
        "0, \\text{ caso contrário.}\n",
        "\\end{cases}\n",
        "$"
      ],
      "metadata": {
        "id": "7k2cUBiuCrLJ"
      }
    },
    {
      "cell_type": "markdown",
      "source": [
        "E, com base nessas definições, tem-se a seguinte formulação:"
      ],
      "metadata": {
        "id": "LYtnU2xHCvok"
      }
    },
    {
      "cell_type": "markdown",
      "source": [
        "$$\\text{maximize} \\frac{1}{k} \\sum_{u \\in L} y_u$$\n",
        "sujeito a:\n",
        "$$\\begin{array}{lll}\n",
        "z_u + z_v \\leq 1, & ∀u \\in L \\text{ e } \\forall v \\in \\overline{N}(u) & (1) \\\\\n",
        "y_u \\leq d(u)z_u, & \\forall u \\in L & (2) \\\\\n",
        "y_u \\leq \\sum_{v \\in N(u)} z_v, & \\forall u \\in L & (3) \\\\\n",
        "\\sum _{u \\in L} z_u = k & & (4) \\\\\n",
        "y_u \\geq 0, & \\forall u \\in L & (5) \\\\\n",
        "z_u \\in \\{0, 1\\}, & \\forall u \\in R & (6)\n",
        "\\end{array}$$"
      ],
      "metadata": {
        "id": "iOTuC0ZDC2id"
      }
    },
    {
      "cell_type": "markdown",
      "source": [
        "### Implementação em Python"
      ],
      "metadata": {
        "id": "sRn_bLXHFym7"
      }
    },
    {
      "cell_type": "code",
      "source": [
        "def solve_meb_v_kmis(G, n, m, k):\n",
        "  L, R = list(range(n)), list(range(n + m))\n",
        "\n",
        "  # Instanciando o solver\n",
        "  solver = pywraplp.Solver.CreateSolver('SCIP')\n",
        "\n",
        "  if not solver:\n",
        "      return None, G, [], [], None\n",
        "\n",
        "  # Criando variáveis de decisão\n",
        "  y = [solver.IntVar(0.0, 1.0, f'y{i}') for i in L]\n",
        "  z = [solver.IntVar(0.0, 1.0, f'z{i}') for i in R]\n",
        "\n",
        "  # Função objetivo\n",
        "  solver.Maximize(1/k * (sum(z[v] for v in R)))\n",
        "  objective = solver.Objective()\n",
        "  for node in range(n+m):\n",
        "      objective.SetCoefficient(z[node], 1)\n",
        "  objective.SetMaximization()\n",
        "\n",
        "  # Restrição 1: se um vértice u em L for escolhido, nenhum vértice que não seja vizinho dele pode ser selecionado\n",
        "  for u in L:\n",
        "      for v in R:\n",
        "          if not G.has_edge(u, v):\n",
        "              solver.Add(y[u] + z[v] <= 1)\n",
        "\n",
        "  # Restrição 2: a quantidade máxima de vizinhos de u pertencentes à solução deve ser o grau de u\n",
        "  for u in L:\n",
        "      solver.Add(sum(z[v] for v in R if G.has_edge(u, v)) <= G.degree(u))\n",
        "\n",
        "  # Restrição 3: y_u não pode ser maior que a quantidade de vértices vizinhos de u que foram escolhidos\n",
        "  for u in L:\n",
        "      solver.Add(y[u] <= sum(z[v] for v in R if G.has_edge(u, v)))\n",
        "\n",
        "  # Restrição 4: seleciona exatamente k subconjuntos\n",
        "  solver.Add(sum(y[u] for u in range(n)) == k)\n",
        "\n",
        "  start_time = time.time()\n",
        "  status = solver.Solve()\n",
        "  end_time = time.time()\n",
        "\n",
        "  exec_time = end_time - start_time\n",
        "\n",
        "  selected_y, selected_z = [], []\n",
        "  if status == pywraplp.Solver.OPTIMAL:\n",
        "      selected_y = [u for i, u in enumerate(L) if y[i].solution_value() == 1]\n",
        "      selected_z = [v for i, v in enumerate(R) if z[i].solution_value() == 1]\n",
        "\n",
        "  return status, selected_y, selected_z, solver.Objective().Value(), exec_time"
      ],
      "metadata": {
        "id": "kejX8UO0F2Nf"
      },
      "execution_count": 16,
      "outputs": []
    },
    {
      "cell_type": "markdown",
      "source": [
        "## Formulação Meb L"
      ],
      "metadata": {
        "id": "QEgU5xgKHBCV"
      }
    },
    {
      "cell_type": "markdown",
      "source": [
        "Para a formulação $MEB \\ L$, as seguintes variáveis são definidas:"
      ],
      "metadata": {
        "id": "Hu2vPkJtHQ4M"
      }
    },
    {
      "cell_type": "markdown",
      "source": [
        "$\n",
        "y_v = \\begin{cases}\n",
        "1, \\text{ caso o vértice } u \\text{ faça parte da solução } \\\\\n",
        "0, \\text{ caso contrário.}\n",
        "\\end{cases}\\\\\n",
        "z_u =\n",
        "\\begin{cases}\n",
        "1, \\text{ caso o vértice } u \\text{ faça parte da solução } \\\\\n",
        "0, \\text{ caso contrário.}\n",
        "\\end{cases}\n",
        "$"
      ],
      "metadata": {
        "id": "F5TSszB6HVBu"
      }
    },
    {
      "cell_type": "markdown",
      "source": [
        "de modo que $ u \\in L $ e $ v \\in R $"
      ],
      "metadata": {
        "id": "zHbaotMxH19B"
      }
    },
    {
      "cell_type": "markdown",
      "source": [
        "E, com base nessas definições, tem-se a seguinte formulação:"
      ],
      "metadata": {
        "id": "2R8LNG4fH89b"
      }
    },
    {
      "cell_type": "markdown",
      "source": [
        "$$\\text{maximize} \\frac{1}{k} \\sum_{v \\in R} y_v$$\n",
        "sujeito a:\n",
        "$$\\begin{array}{lll}\n",
        "y_v \\leq \\sum_{u \\in N(v)} z_u & \\forall v \\in R & (7)\\\\\n",
        "y_u \\leq (1-z_u)d(v), & \\forall u \\in L, \\\\\n",
        "\\sum _{u \\in L} z_u = k & & (9) \\\\\n",
        "y_v \\geq 0, & \\forall v \\in R & (10) \\\\\n",
        "z_u \\in \\{0, 1\\}, & \\forall u \\in L & (11)\n",
        "\\end{array}$$"
      ],
      "metadata": {
        "id": "cAtpnkppH_Bw"
      }
    },
    {
      "cell_type": "markdown",
      "source": [
        "### Implementação em Python"
      ],
      "metadata": {
        "id": "idoHfIMAJTcR"
      }
    },
    {
      "cell_type": "code",
      "source": [
        "def solve_meb_l_kmis(G, n, m, k):\n",
        "  L, R = list(range(n)), list(range(n, n + m))\n",
        "\n",
        "  # Instanciando o solver\n",
        "  solver = pywraplp.Solver.CreateSolver('SCIP')\n",
        "\n",
        "  if not solver:\n",
        "      return None, G, [], [], None\n",
        "\n",
        "  # Criando variáveis de decisão\n",
        "  y = [solver.IntVar(0.0, 1.0, f'y{i}') for i in R]\n",
        "  z = [solver.IntVar(0.0, 1.0, f'z{i}') for i in L]\n",
        "\n",
        "  # Função objetivo\n",
        "  solver.Maximize(1/k * sum(y[v-n] for v in R))\n",
        "  objective = solver.Objective()\n",
        "  for node in range(m):\n",
        "      objective.SetCoefficient(y[node], 1)\n",
        "  objective.SetMaximization()\n",
        "\n",
        "  # Restrição 7: y_v não deve ser maior que a quantidade de vértices vizinhos de v escolhidos\n",
        "  for v in R:\n",
        "      solver.Add(y[v-n] <= sum(z[u] for u in L if G.has_edge(u, v)))\n",
        "\n",
        "  # Restrição 8: se um vértice u for escolhido, nenhum vértice que não seja vizinho pode ser escolhido\n",
        "  for u in L:\n",
        "      for v in R:\n",
        "          if not G.has_edge(u, v):\n",
        "              solver.Add(z[u] + y[v-n] <= 1)\n",
        "\n",
        "  # Restrição 9: seleciona exatamente k vértices\n",
        "  solver.Add(sum(z[u] for u in L) == k)\n",
        "\n",
        "  start_time = time.time()\n",
        "  status = solver.Solve()\n",
        "  end_time = time.time()\n",
        "\n",
        "  exec_time = end_time - start_time\n",
        "\n",
        "  selected_y, selected_z = [], []\n",
        "  if status == pywraplp.Solver.OPTIMAL:\n",
        "      selected_y = [v for i, v in enumerate(R) if y[i].solution_value() == 1]\n",
        "      selected_z = [u for i, u in enumerate(L) if z[i].solution_value() == 1]\n",
        "\n",
        "  return status, selected_y, selected_z, solver.Objective().Value(), exec_time"
      ],
      "metadata": {
        "id": "ZoNBiOLYJWLp"
      },
      "execution_count": 6,
      "outputs": []
    },
    {
      "cell_type": "markdown",
      "source": [
        "## Realizando experimentos com diferentes grafos"
      ],
      "metadata": {
        "id": "OrJoqi4RKFg7"
      }
    },
    {
      "cell_type": "code",
      "source": [
        "def run_experiments(ns, ks, ps):\n",
        "  results = []\n",
        "\n",
        "  for n in ns:\n",
        "      m = n  # |L| = |R|\n",
        "      for p in ps:\n",
        "          for k in ks:\n",
        "              # Gerar grafo uma única vez\n",
        "              G = nx.bipartite.random_graph(n, m, p)\n",
        "\n",
        "              # Usar o mesmo grafo para ambas as formulações\n",
        "              status_v, selected_y_v, selected_x_v, obj_v, time_v = solve_meb_v_kmis(G, n, m, k)\n",
        "              status_l, selected_y_l, selected_z_l, obj_l, time_l = solve_meb_l_kmis(G, n, m, k)\n",
        "\n",
        "              if status_v == pywraplp.Solver.OPTIMAL and status_l == pywraplp.Solver.OPTIMAL:\n",
        "                  density = nx.density(G)\n",
        "                  results.append({\n",
        "                      'n': n,\n",
        "                      'm': m,\n",
        "                      'p': p,\n",
        "                      'k': k,\n",
        "                      'density': density,\n",
        "                      'obj_meb_v': obj_v,\n",
        "                      'obj_meb_l': obj_l,\n",
        "                      'time_meb_v': time_v,\n",
        "                      'time_meb_l': time_l,\n",
        "                      'best_time' : 'MEB-V' if time_v < time_l else 'MEB-L',\n",
        "                      'total_time_spent' : time_v + time_l\n",
        "                  })\n",
        "  return pd.DataFrame(results)\n"
      ],
      "metadata": {
        "id": "9ilubWAUKJGZ"
      },
      "execution_count": 12,
      "outputs": []
    },
    {
      "cell_type": "code",
      "source": [
        "# Parâmetros para as simulações\n",
        "ns = [10, 20, 40, 50]\n",
        "ks = [3]\n",
        "ps = [0.5, 0.8]\n",
        "\n",
        "# Rodar experimentos\n",
        "df_results = run_experiments(ns, ks, ps)\n",
        "\n",
        "# Mostrar resultados\n",
        "print(df_results)"
      ],
      "metadata": {
        "colab": {
          "base_uri": "https://localhost:8080/"
        },
        "id": "4yBNT3fuKybM",
        "outputId": "55c5ea0d-65eb-4fee-bde4-1c831b86deb3"
      },
      "execution_count": 17,
      "outputs": [
        {
          "output_type": "stream",
          "name": "stdout",
          "text": [
            "    n   m    p  k   density  obj_meb_v  obj_meb_l  time_meb_v  time_meb_l  \\\n",
            "0  10  10  0.5  3  0.221053        3.0        3.0    0.057171    0.023456   \n",
            "1  10  10  0.8  3  0.431579        8.0        8.0    0.007535    0.006655   \n",
            "2  20  20  0.5  3  0.255128        7.0        7.0    0.817968    0.689379   \n",
            "3  20  20  0.8  3  0.394872       16.0       16.0    0.017568    0.007060   \n",
            "4  40  40  0.5  3  0.254430       16.0       16.0    3.731273    3.726793   \n",
            "5  40  40  0.8  3  0.392089       29.0       29.0    2.097933    2.360093   \n",
            "6  50  50  0.5  3  0.252929       15.0       15.0   38.756738   14.218933   \n",
            "7  50  50  0.8  3  0.406869       36.0       36.0   11.283864    3.400959   \n",
            "\n",
            "  best_time  total_time_spent  \n",
            "0     MEB-L          0.080627  \n",
            "1     MEB-L          0.014191  \n",
            "2     MEB-L          1.507348  \n",
            "3     MEB-L          0.024628  \n",
            "4     MEB-L          7.458066  \n",
            "5     MEB-V          4.458026  \n",
            "6     MEB-L         52.975672  \n",
            "7     MEB-L         14.684822  \n"
          ]
        }
      ]
    },
    {
      "cell_type": "markdown",
      "source": [
        "# Comparacão entre as formulações"
      ],
      "metadata": {
        "id": "e9tQu3IfeBz-"
      }
    },
    {
      "cell_type": "code",
      "source": [
        "def format_dataframe(df):\n",
        "    # Limitar o número de casas decimais para colunas numéricas\n",
        "    for col in ['density', 'obj_meb_v', 'obj_meb_l', 'time_meb_v', 'time_meb_l', 'total_time_spent']:\n",
        "        df[col] = df[col].apply(lambda x: f'{float(x):.6f}' if isinstance(x, (int, float)) else x)\n",
        "    return df\n",
        "\n",
        "def add_total_time_by_p(df):\n",
        "    # Calculando o total do tempo para p = 0.5 e p = 0.8\n",
        "    total_time_p_05 = df[df['p'] == 0.5]['total_time_spent'].astype(float).mean()\n",
        "    total_time_p_08 = df[df['p'] == 0.8]['total_time_spent'].astype(float).mean()\n",
        "\n",
        "    # Adicionando essas informações como novas linhas\n",
        "    df_total_time = pd.DataFrame({\n",
        "        'n': ['-', '-'],\n",
        "        'm': ['-', '-'],\n",
        "        'p': [0.5, 0.8],\n",
        "        'k': ['-', '-'],\n",
        "        'density': ['-', '-'],\n",
        "        'obj_meb_v': ['-', '-'],\n",
        "        'obj_meb_l': ['-', '-'],\n",
        "        'time_meb_v': ['-', '-'],\n",
        "        'time_meb_l': ['-', '-'],\n",
        "        'best_time': ['-', '-'],\n",
        "        'total_time_spent': [f'{total_time_p_05:.6f}', f'{total_time_p_08:.6f}']\n",
        "    })\n",
        "\n",
        "    # Concatenando os DataFrames\n",
        "    df = pd.concat([df, df_total_time], ignore_index=True)\n",
        "\n",
        "    return df\n",
        "\n",
        "def plot_results_table(df):\n",
        "    fig, ax = plt.subplots(figsize=(10, len(df) * 0.5))\n",
        "\n",
        "    ax.axis('tight')\n",
        "    ax.axis('off')\n",
        "\n",
        "    table = ax.table(cellText=df.values,\n",
        "                     colLabels=df.columns,\n",
        "                     cellLoc='center',\n",
        "                     loc='center',\n",
        "                     colColours=['#f2f2f2']*len(df.columns))\n",
        "\n",
        "    table.auto_set_font_size(False)\n",
        "    table.set_fontsize(10)\n",
        "    table.auto_set_column_width(col=list(range(len(df.columns))))\n",
        "\n",
        "    plt.show()\n",
        "\n",
        "# Formatar o DataFrame\n",
        "df_formatted = format_dataframe(df_results)\n",
        "\n",
        "# Adicionar o total de tempo para p = 0.5 e p = 0.8\n",
        "df_with_totals = add_total_time_by_p(df_formatted)\n",
        "\n",
        "# Plotar a tabela com os resultados formatados\n",
        "plot_results_table(df_with_totals)\n"
      ],
      "metadata": {
        "colab": {
          "base_uri": "https://localhost:8080/",
          "height": 442
        },
        "id": "-PYDeZK-eGAm",
        "outputId": "86a20b22-6399-49d6-b1dd-68a6707fa2f9"
      },
      "execution_count": 18,
      "outputs": [
        {
          "output_type": "display_data",
          "data": {
            "text/plain": [
              "<Figure size 1000x500 with 1 Axes>"
            ],
            "image/png": "[encoded data removed]"
          },
          "metadata": {}
        }
      ]
    }
  ]
}